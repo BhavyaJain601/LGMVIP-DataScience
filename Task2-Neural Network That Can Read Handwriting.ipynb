{
 "cells": [
  {
   "cell_type": "markdown",
   "id": "bf315bd2",
   "metadata": {},
   "source": [
    "# LetsGrowMoreVIP - Data Science Intern - JANUARY 2022\n",
    "Bhavya Jain\n",
    "\n",
    "Advanced Level Task 1 - Develop A Neural Network That Can Read Handwriting\n",
    "\n",
    "Begin your neural network machine learning project with the MNIST Handwritten Digit Classification Challenge and using Tensorflow and CNN. It has a very user-friendly interface that’s ideal for beginners."
   ]
  },
  {
   "cell_type": "code",
   "execution_count": 1,
   "id": "89cdaad3",
   "metadata": {},
   "outputs": [],
   "source": [
    "#Importing the Libraries\n",
    "\n",
    "import tensorflow as tf\n",
    "from tensorflow.keras import datasets, models, layers\n",
    "import numpy as np\n",
    "import matplotlib.pyplot as plt"
   ]
  },
  {
   "cell_type": "code",
   "execution_count": 2,
   "id": "0709de75",
   "metadata": {},
   "outputs": [
    {
     "name": "stdout",
     "output_type": "stream",
     "text": [
      "Downloading data from https://storage.googleapis.com/tensorflow/tf-keras-datasets/mnist.npz\n",
      "11493376/11490434 [==============================] - 8s 1us/step\n",
      "11501568/11490434 [==============================] - 8s 1us/step\n"
     ]
    }
   ],
   "source": [
    "#Downloading MNIST Dataset\n",
    "\n",
    "(train_img, train_labels),(test_img, test_labels) = datasets.mnist.load_data()"
   ]
  },
  {
   "cell_type": "markdown",
   "id": "270133af",
   "metadata": {},
   "source": [
    "# Normalization of Images"
   ]
  },
  {
   "cell_type": "code",
   "execution_count": 3,
   "id": "71a77d47",
   "metadata": {},
   "outputs": [],
   "source": [
    "train_img, test_img = train_img/255.0 , test_img/255.0"
   ]
  },
  {
   "cell_type": "code",
   "execution_count": 4,
   "id": "bff011c7",
   "metadata": {},
   "outputs": [
    {
     "data": {
      "text/plain": [
       "60000"
      ]
     },
     "execution_count": 4,
     "metadata": {},
     "output_type": "execute_result"
    }
   ],
   "source": [
    "len(train_img)"
   ]
  },
  {
   "cell_type": "code",
   "execution_count": 5,
   "id": "6f942ba8",
   "metadata": {},
   "outputs": [
    {
     "data": {
      "text/plain": [
       "10000"
      ]
     },
     "execution_count": 5,
     "metadata": {},
     "output_type": "execute_result"
    }
   ],
   "source": [
    "len(test_img)"
   ]
  },
  {
   "cell_type": "markdown",
   "id": "c52f0e58",
   "metadata": {},
   "source": [
    "# Visualization of Images"
   ]
  },
  {
   "cell_type": "code",
   "execution_count": 6,
   "id": "78058555",
   "metadata": {},
   "outputs": [
    {
     "data": {
      "text/plain": [
       "<matplotlib.image.AxesImage at 0x2630a112370>"
      ]
     },
     "execution_count": 6,
     "metadata": {},
     "output_type": "execute_result"
    },
    {
     "data": {
      "image/png": "[encoded data removed]",
      "text/plain": [
       "<Figure size 432x288 with 1 Axes>"
      ]
     },
     "metadata": {
      "needs_background": "light"
     },
     "output_type": "display_data"
    }
   ],
   "source": [
    "plt.imshow(train_img[0],cmap=plt.cm.gray_r, interpolation='nearest')"
   ]
  },
  {
   "cell_type": "code",
   "execution_count": 7,
   "id": "9eb33824",
   "metadata": {},
   "outputs": [
    {
     "data": {
      "image/png": "[encoded data removed]",
      "text/plain": [
       "<Figure size 720x720 with 25 Axes>"
      ]
     },
     "metadata": {},
     "output_type": "display_data"
    }
   ],
   "source": [
    "plt.figure(figsize=(10,10))\n",
    "for i in range(25):\n",
    "    plt.subplot(5, 5, i+1)\n",
    "    plt.xticks([])\n",
    "    plt.yticks([])\n",
    "    plt.grid(False)\n",
    "    plt.imshow(train_img[i], cmap=plt.cm.binary)\n",
    "plt.show()"
   ]
  },
  {
   "cell_type": "markdown",
   "id": "1ce368ad",
   "metadata": {},
   "source": [
    "# Creating and Training the Model"
   ]
  },
  {
   "cell_type": "code",
   "execution_count": 33,
   "id": "bbd03bdb",
   "metadata": {},
   "outputs": [],
   "source": [
    "model = tf.keras.models.Sequential([\n",
    "    tf.keras.layers.Flatten(input_shape=(28,28)),\n",
    "    tf.keras.layers.Dense(128, activation='relu'),\n",
    "    tf.keras.layers.Dense(10)\n",
    "])"
   ]
  },
  {
   "cell_type": "code",
   "execution_count": 34,
   "id": "73edf2cb",
   "metadata": {},
   "outputs": [],
   "source": [
    "model.compile(\n",
    "    optimizer = tf.keras.optimizers.Adam(0.001),\n",
    "    loss = tf.keras.losses.SparseCategoricalCrossentropy(from_logits=True),\n",
    "    metrics = [tf.keras.metrics.SparseCategoricalAccuracy()]\n",
    ")"
   ]
  },
  {
   "cell_type": "code",
   "execution_count": 10,
   "id": "31514a02",
   "metadata": {},
   "outputs": [
    {
     "name": "stdout",
     "output_type": "stream",
     "text": [
      "Epoch 1/10\n",
      "1875/1875 [==============================] - 2s 1ms/step - loss: 0.2550 - sparse_categorical_accuracy: 0.9275 - val_loss: 0.1344 - val_sparse_categorical_accuracy: 0.9603\n",
      "Epoch 2/10\n",
      "1875/1875 [==============================] - 2s 866us/step - loss: 0.1157 - sparse_categorical_accuracy: 0.9657 - val_loss: 0.1015 - val_sparse_categorical_accuracy: 0.9702\n",
      "Epoch 3/10\n",
      "1875/1875 [==============================] - 2s 852us/step - loss: 0.0798 - sparse_categorical_accuracy: 0.9756 - val_loss: 0.0932 - val_sparse_categorical_accuracy: 0.9712\n",
      "Epoch 4/10\n",
      "1875/1875 [==============================] - 2s 906us/step - loss: 0.0594 - sparse_categorical_accuracy: 0.9815 - val_loss: 0.0921 - val_sparse_categorical_accuracy: 0.9713\n",
      "Epoch 5/10\n",
      "1875/1875 [==============================] - 2s 888us/step - loss: 0.0456 - sparse_categorical_accuracy: 0.9861 - val_loss: 0.0795 - val_sparse_categorical_accuracy: 0.9765\n",
      "Epoch 6/10\n",
      "1875/1875 [==============================] - 2s 862us/step - loss: 0.0362 - sparse_categorical_accuracy: 0.9889 - val_loss: 0.0814 - val_sparse_categorical_accuracy: 0.9749\n",
      "Epoch 7/10\n",
      "1875/1875 [==============================] - 2s 879us/step - loss: 0.0292 - sparse_categorical_accuracy: 0.9909 - val_loss: 0.0717 - val_sparse_categorical_accuracy: 0.9784\n",
      "Epoch 8/10\n",
      "1875/1875 [==============================] - 2s 944us/step - loss: 0.0237 - sparse_categorical_accuracy: 0.9928 - val_loss: 0.0805 - val_sparse_categorical_accuracy: 0.9759\n",
      "Epoch 9/10\n",
      "1875/1875 [==============================] - 2s 914us/step - loss: 0.0195 - sparse_categorical_accuracy: 0.9939 - val_loss: 0.0810 - val_sparse_categorical_accuracy: 0.9791\n",
      "Epoch 10/10\n",
      "1875/1875 [==============================] - 2s 907us/step - loss: 0.0160 - sparse_categorical_accuracy: 0.9950 - val_loss: 0.0885 - val_sparse_categorical_accuracy: 0.9765\n"
     ]
    },
    {
     "data": {
      "text/plain": [
       "<keras.callbacks.History at 0x2630c244af0>"
      ]
     },
     "execution_count": 10,
     "metadata": {},
     "output_type": "execute_result"
    }
   ],
   "source": [
    "model.fit(\n",
    "    train_img, train_labels,\n",
    "    epochs = 10,\n",
    "    validation_data = (test_img, test_labels)\n",
    ")"
   ]
  },
  {
   "cell_type": "markdown",
   "id": "f82fe7b8",
   "metadata": {},
   "source": [
    "# Model Summary\n",
    "\n",
    "summary() to print a useful summary of the model, which includes: Name and type of all layers in the model."
   ]
  },
  {
   "cell_type": "code",
   "execution_count": 12,
   "id": "89ca99b5",
   "metadata": {},
   "outputs": [
    {
     "name": "stdout",
     "output_type": "stream",
     "text": [
      "Model: \"sequential\"\n",
      "_________________________________________________________________\n",
      " Layer (type)                Output Shape              Param #   \n",
      "=================================================================\n",
      " flatten (Flatten)           (None, 784)               0         \n",
      "                                                                 \n",
      " dense (Dense)               (None, 128)               100480    \n",
      "                                                                 \n",
      " dense_1 (Dense)             (None, 10)                1290      \n",
      "                                                                 \n",
      "=================================================================\n",
      "Total params: 101,770\n",
      "Trainable params: 101,770\n",
      "Non-trainable params: 0\n",
      "_________________________________________________________________\n"
     ]
    }
   ],
   "source": [
    "model.summary()"
   ]
  },
  {
   "cell_type": "markdown",
   "id": "92158a68",
   "metadata": {},
   "source": [
    "# Adding Flatten Layer\n",
    "\n",
    "Flatten layer is used to make the multidimensional input one-dimensional."
   ]
  },
  {
   "cell_type": "code",
   "execution_count": 13,
   "id": "d1786b18",
   "metadata": {},
   "outputs": [],
   "source": [
    "model.add(layers.Flatten())"
   ]
  },
  {
   "cell_type": "markdown",
   "id": "47c8edb8",
   "metadata": {},
   "source": [
    "# Adding Dense Layer\n",
    "\n",
    "Dense Layer is used to classify image based on output from convolutional layers."
   ]
  },
  {
   "cell_type": "code",
   "execution_count": 14,
   "id": "205fa7f2",
   "metadata": {},
   "outputs": [],
   "source": [
    "model.add(layers.Dense(64, activation='relu'))\n",
    "model.add(layers.Dense(10))"
   ]
  },
  {
   "cell_type": "markdown",
   "id": "135b1b83",
   "metadata": {},
   "source": [
    "# Compilation\n",
    "Compile defines the loss function, the optimizer and the metrics. "
   ]
  },
  {
   "cell_type": "code",
   "execution_count": 35,
   "id": "f6556ee3",
   "metadata": {},
   "outputs": [],
   "source": [
    "model.compile(optimizer='adam', loss=tf.keras.losses.SparseCategoricalCrossentropy(from_logits=True),metrics = ['accuracy'])"
   ]
  },
  {
   "cell_type": "markdown",
   "id": "011d0247",
   "metadata": {},
   "source": [
    "# Train the Model\n",
    "\n",
    "model.fit() = A model that is well-fitted produces more accurate outcomes. "
   ]
  },
  {
   "cell_type": "code",
   "execution_count": 36,
   "id": "81d5aed0",
   "metadata": {},
   "outputs": [
    {
     "name": "stdout",
     "output_type": "stream",
     "text": [
      "Epoch 1/12\n",
      "1875/1875 [==============================] - 2s 929us/step - loss: 0.2654 - accuracy: 0.9231 - val_loss: 0.1425 - val_accuracy: 0.9585\n",
      "Epoch 2/12\n",
      "1875/1875 [==============================] - 2s 872us/step - loss: 0.1178 - accuracy: 0.9650 - val_loss: 0.1116 - val_accuracy: 0.9669\n",
      "Epoch 3/12\n",
      "1875/1875 [==============================] - 2s 927us/step - loss: 0.0804 - accuracy: 0.9757 - val_loss: 0.0867 - val_accuracy: 0.9734\n",
      "Epoch 4/12\n",
      "1875/1875 [==============================] - 2s 851us/step - loss: 0.0612 - accuracy: 0.9816 - val_loss: 0.0776 - val_accuracy: 0.9762\n",
      "Epoch 5/12\n",
      "1875/1875 [==============================] - 2s 876us/step - loss: 0.0465 - accuracy: 0.9862 - val_loss: 0.0753 - val_accuracy: 0.9777\n",
      "Epoch 6/12\n",
      "1875/1875 [==============================] - 2s 856us/step - loss: 0.0375 - accuracy: 0.9882 - val_loss: 0.0724 - val_accuracy: 0.9780\n",
      "Epoch 7/12\n",
      "1875/1875 [==============================] - 2s 843us/step - loss: 0.0301 - accuracy: 0.9905 - val_loss: 0.0828 - val_accuracy: 0.9767\n",
      "Epoch 8/12\n",
      "1875/1875 [==============================] - 2s 888us/step - loss: 0.0245 - accuracy: 0.9927 - val_loss: 0.0683 - val_accuracy: 0.9810\n",
      "Epoch 9/12\n",
      "1875/1875 [==============================] - 2s 901us/step - loss: 0.0184 - accuracy: 0.9944 - val_loss: 0.0739 - val_accuracy: 0.9803\n",
      "Epoch 10/12\n",
      "1875/1875 [==============================] - 2s 852us/step - loss: 0.0171 - accuracy: 0.9949 - val_loss: 0.0790 - val_accuracy: 0.9786\n",
      "Epoch 11/12\n",
      "1875/1875 [==============================] - 2s 887us/step - loss: 0.0131 - accuracy: 0.9959 - val_loss: 0.0923 - val_accuracy: 0.9775\n",
      "Epoch 12/12\n",
      "1875/1875 [==============================] - 2s 879us/step - loss: 0.0117 - accuracy: 0.9963 - val_loss: 0.0909 - val_accuracy: 0.9762\n"
     ]
    },
    {
     "data": {
      "text/plain": [
       "<keras.callbacks.History at 0x2630aac65e0>"
      ]
     },
     "execution_count": 36,
     "metadata": {},
     "output_type": "execute_result"
    }
   ],
   "source": [
    "model.fit(train_img, train_labels, epochs=12, validation_data=(test_img, test_labels))"
   ]
  },
  {
   "cell_type": "code",
   "execution_count": 37,
   "id": "74241e57",
   "metadata": {},
   "outputs": [
    {
     "name": "stdout",
     "output_type": "stream",
     "text": [
      "Model: \"sequential_1\"\n",
      "_________________________________________________________________\n",
      " Layer (type)                Output Shape              Param #   \n",
      "=================================================================\n",
      " flatten_2 (Flatten)         (None, 784)               0         \n",
      "                                                                 \n",
      " dense_4 (Dense)             (None, 128)               100480    \n",
      "                                                                 \n",
      " dense_5 (Dense)             (None, 10)                1290      \n",
      "                                                                 \n",
      "=================================================================\n",
      "Total params: 101,770\n",
      "Trainable params: 101,770\n",
      "Non-trainable params: 0\n",
      "_________________________________________________________________\n"
     ]
    }
   ],
   "source": [
    "model.summary()"
   ]
  },
  {
   "cell_type": "markdown",
   "id": "3d0e6e88",
   "metadata": {},
   "source": [
    "# Evaluatation of the Model\n"
   ]
  },
  {
   "cell_type": "code",
   "execution_count": 38,
   "id": "201cda9c",
   "metadata": {},
   "outputs": [
    {
     "name": "stdout",
     "output_type": "stream",
     "text": [
      "313/313 [==============================] - 0s 1ms/step - loss: 0.0909 - accuracy: 0.9762\n",
      "[0.09091582894325256, 0.9761999845504761]\n"
     ]
    }
   ],
   "source": [
    "print(model.evaluate(test_img,test_labels))"
   ]
  },
  {
   "cell_type": "code",
   "execution_count": 39,
   "id": "e957d8cd",
   "metadata": {},
   "outputs": [
    {
     "data": {
      "text/plain": [
       "array([[-10.615534  , -10.311237  ,  -8.222453  , ...,  12.883319  ,\n",
       "         -7.083317  ,  -0.94583106],\n",
       "       [ -5.2888145 ,   6.1009526 ,  18.296734  , ..., -18.732489  ,\n",
       "         -5.3888288 , -27.076332  ],\n",
       "       [-11.244904  ,   8.392822  ,  -4.8930674 , ...,  -5.042806  ,\n",
       "         -1.8101287 , -10.0497465 ],\n",
       "       ...,\n",
       "       [-25.52753   , -15.047955  , -19.583555  , ...,  -4.0468273 ,\n",
       "         -0.339966  ,  -1.0111543 ],\n",
       "       [-16.338453  , -14.179636  , -19.257694  , ..., -12.722435  ,\n",
       "          3.9721036 , -15.286724  ],\n",
       "       [ -7.212313  , -10.069552  ,  -9.262595  , ..., -17.74898   ,\n",
       "         -7.969898  , -16.208445  ]], dtype=float32)"
      ]
     },
     "execution_count": 39,
     "metadata": {},
     "output_type": "execute_result"
    }
   ],
   "source": [
    "y_pred=prediction=model.predict(test_img)\n",
    "y_pred"
   ]
  },
  {
   "cell_type": "code",
   "execution_count": 40,
   "id": "bce07788",
   "metadata": {},
   "outputs": [
    {
     "data": {
      "text/plain": [
       "<matplotlib.image.AxesImage at 0x2630ace8a90>"
      ]
     },
     "execution_count": 40,
     "metadata": {},
     "output_type": "execute_result"
    },
    {
     "data": {
      "image/png": "[encoded data removed]",
      "text/plain": [
       "<Figure size 432x288 with 1 Axes>"
      ]
     },
     "metadata": {
      "needs_background": "light"
     },
     "output_type": "display_data"
    }
   ],
   "source": [
    "plt.imshow(test_img[1])"
   ]
  },
  {
   "cell_type": "code",
   "execution_count": 41,
   "id": "2d1d431a",
   "metadata": {},
   "outputs": [
    {
     "name": "stdout",
     "output_type": "stream",
     "text": [
      "2\n"
     ]
    }
   ],
   "source": [
    "prediction=model.predict(test_img)\n",
    "print(np.argmax(prediction[1]))"
   ]
  },
  {
   "cell_type": "markdown",
   "id": "b1096483",
   "metadata": {},
   "source": [
    "The model predict above image as 2 which is correct."
   ]
  },
  {
   "cell_type": "code",
   "execution_count": 42,
   "id": "9db0f36b",
   "metadata": {},
   "outputs": [
    {
     "data": {
      "text/plain": [
       "<matplotlib.image.AxesImage at 0x2630ace4730>"
      ]
     },
     "execution_count": 42,
     "metadata": {},
     "output_type": "execute_result"
    },
    {
     "data": {
      "image/png": "[encoded data removed]",
      "text/plain": [
       "<Figure size 432x288 with 1 Axes>"
      ]
     },
     "metadata": {
      "needs_background": "light"
     },
     "output_type": "display_data"
    }
   ],
   "source": [
    "plt.imshow(test_img[2])"
   ]
  },
  {
   "cell_type": "code",
   "execution_count": 43,
   "id": "f7c6c0c9",
   "metadata": {},
   "outputs": [
    {
     "name": "stdout",
     "output_type": "stream",
     "text": [
      "1\n"
     ]
    }
   ],
   "source": [
    "prediction=model.predict(test_img)\n",
    "print(np.argmax(prediction[2]))"
   ]
  },
  {
   "cell_type": "markdown",
   "id": "fdc5194c",
   "metadata": {},
   "source": [
    "The model predict above image as 1 which is correct"
   ]
  },
  {
   "cell_type": "code",
   "execution_count": 45,
   "id": "74013aff",
   "metadata": {},
   "outputs": [
    {
     "data": {
      "text/plain": [
       "<matplotlib.image.AxesImage at 0x2630aa0e4f0>"
      ]
     },
     "execution_count": 45,
     "metadata": {},
     "output_type": "execute_result"
    },
    {
     "data": {
      "image/png": "[encoded data removed]",
      "text/plain": [
       "<Figure size 432x288 with 1 Axes>"
      ]
     },
     "metadata": {
      "needs_background": "light"
     },
     "output_type": "display_data"
    }
   ],
   "source": [
    "plt.imshow(test_img[7])"
   ]
  },
  {
   "cell_type": "code",
   "execution_count": 46,
   "id": "afede3a1",
   "metadata": {},
   "outputs": [
    {
     "name": "stdout",
     "output_type": "stream",
     "text": [
      "9\n"
     ]
    }
   ],
   "source": [
    "prediction=model.predict(test_img)\n",
    "print(np.argmax(prediction[7]))"
   ]
  },
  {
   "cell_type": "markdown",
   "id": "f26b2b98",
   "metadata": {},
   "source": [
    "The model predict above image as 9 which is correct"
   ]
  },
  {
   "cell_type": "markdown",
   "id": "6ae578b6",
   "metadata": {},
   "source": [
    "Thus our trained model is showing coreect number for handwritting."
   ]
  }
 ],
 "metadata": {
  "kernelspec": {
   "display_name": "Python 3 (ipykernel)",
   "language": "python",
   "name": "python3"
  },
  "language_info": {
   "codemirror_mode": {
    "name": "ipython",
    "version": 3
   },
   "file_extension": ".py",
   "mimetype": "text/x-python",
   "name": "python",
   "nbconvert_exporter": "python",
   "pygments_lexer": "ipython3",
   "version": "3.9.7"
  }
 },
 "nbformat": 4,
 "nbformat_minor": 5
}
