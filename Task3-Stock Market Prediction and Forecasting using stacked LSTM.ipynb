{
 "cells": [
  {
   "cell_type": "markdown",
   "id": "28fe71a3",
   "metadata": {},
   "source": [
    "# LetsGrowMoreVIP - Data Science Intern - JANUARY 2022\n",
    "Bhavya Jain\n",
    "\n",
    "Beginner Level Task 2 - Stock Market Prediction and Forecasting using stacked LSTM"
   ]
  },
  {
   "cell_type": "markdown",
   "id": "e503709e",
   "metadata": {},
   "source": [
    "# Importing Required Libraries"
   ]
  },
  {
   "cell_type": "code",
   "execution_count": 11,
   "id": "34d6e683",
   "metadata": {},
   "outputs": [],
   "source": [
    "import numpy as np\n",
    "import pandas as pd \n",
    "import tensorflow as tf\n",
    "from sklearn.preprocessing import MinMaxScaler \n",
    "from keras.models import Sequential \n",
    "from keras.layers import Dense, LSTM \n",
    "import math \n",
    "import seaborn as sb \n",
    "import matplotlib.pyplot as plt\n",
    "from sklearn.metrics import mean_squared_error"
   ]
  },
  {
   "cell_type": "markdown",
   "id": "0fcf3381",
   "metadata": {},
   "source": [
    "Read Data from csv file."
   ]
  },
  {
   "cell_type": "code",
   "execution_count": 12,
   "id": "93ef35f4",
   "metadata": {},
   "outputs": [
    {
     "data": {
      "text/html": [
       "<div>\n",
       "<style scoped>\n",
       "    .dataframe tbody tr th:only-of-type {\n",
       "        vertical-align: middle;\n",
       "    }\n",
       "\n",
       "    .dataframe tbody tr th {\n",
       "        vertical-align: top;\n",
       "    }\n",
       "\n",
       "    .dataframe thead th {\n",
       "        text-align: right;\n",
       "    }\n",
       "</style>\n",
       "<table border=\"1\" class=\"dataframe\">\n",
       "  <thead>\n",
       "    <tr style=\"text-align: right;\">\n",
       "      <th></th>\n",
       "      <th>Date</th>\n",
       "      <th>Open</th>\n",
       "      <th>High</th>\n",
       "      <th>Low</th>\n",
       "      <th>Last</th>\n",
       "      <th>Close</th>\n",
       "      <th>Total Trade Quantity</th>\n",
       "      <th>Turnover (Lacs)</th>\n",
       "    </tr>\n",
       "  </thead>\n",
       "  <tbody>\n",
       "    <tr>\n",
       "      <th>0</th>\n",
       "      <td>2018-09-28</td>\n",
       "      <td>234.05</td>\n",
       "      <td>235.95</td>\n",
       "      <td>230.20</td>\n",
       "      <td>233.50</td>\n",
       "      <td>233.75</td>\n",
       "      <td>3069914</td>\n",
       "      <td>7162.35</td>\n",
       "    </tr>\n",
       "    <tr>\n",
       "      <th>1</th>\n",
       "      <td>2018-09-27</td>\n",
       "      <td>234.55</td>\n",
       "      <td>236.80</td>\n",
       "      <td>231.10</td>\n",
       "      <td>233.80</td>\n",
       "      <td>233.25</td>\n",
       "      <td>5082859</td>\n",
       "      <td>11859.95</td>\n",
       "    </tr>\n",
       "    <tr>\n",
       "      <th>2</th>\n",
       "      <td>2018-09-26</td>\n",
       "      <td>240.00</td>\n",
       "      <td>240.00</td>\n",
       "      <td>232.50</td>\n",
       "      <td>235.00</td>\n",
       "      <td>234.25</td>\n",
       "      <td>2240909</td>\n",
       "      <td>5248.60</td>\n",
       "    </tr>\n",
       "    <tr>\n",
       "      <th>3</th>\n",
       "      <td>2018-09-25</td>\n",
       "      <td>233.30</td>\n",
       "      <td>236.75</td>\n",
       "      <td>232.00</td>\n",
       "      <td>236.25</td>\n",
       "      <td>236.10</td>\n",
       "      <td>2349368</td>\n",
       "      <td>5503.90</td>\n",
       "    </tr>\n",
       "    <tr>\n",
       "      <th>4</th>\n",
       "      <td>2018-09-24</td>\n",
       "      <td>233.55</td>\n",
       "      <td>239.20</td>\n",
       "      <td>230.75</td>\n",
       "      <td>234.00</td>\n",
       "      <td>233.30</td>\n",
       "      <td>3423509</td>\n",
       "      <td>7999.55</td>\n",
       "    </tr>\n",
       "  </tbody>\n",
       "</table>\n",
       "</div>"
      ],
      "text/plain": [
       "         Date    Open    High     Low    Last   Close  Total Trade Quantity  \\\n",
       "0  2018-09-28  234.05  235.95  230.20  233.50  233.75               3069914   \n",
       "1  2018-09-27  234.55  236.80  231.10  233.80  233.25               5082859   \n",
       "2  2018-09-26  240.00  240.00  232.50  235.00  234.25               2240909   \n",
       "3  2018-09-25  233.30  236.75  232.00  236.25  236.10               2349368   \n",
       "4  2018-09-24  233.55  239.20  230.75  234.00  233.30               3423509   \n",
       "\n",
       "   Turnover (Lacs)  \n",
       "0          7162.35  \n",
       "1         11859.95  \n",
       "2          5248.60  \n",
       "3          5503.90  \n",
       "4          7999.55  "
      ]
     },
     "execution_count": 12,
     "metadata": {},
     "output_type": "execute_result"
    }
   ],
   "source": [
    "data = pd.read_csv('https://raw.githubusercontent.com/mwitiderrick/stockprice/master/NSE-TATAGLOBAL.csv')\n",
    "data.head()"
   ]
  },
  {
   "cell_type": "code",
   "execution_count": 23,
   "id": "db28bc38",
   "metadata": {},
   "outputs": [
    {
     "data": {
      "text/plain": [
       "Text(0, 0.5, 'Close')"
      ]
     },
     "execution_count": 23,
     "metadata": {},
     "output_type": "execute_result"
    },
    {
     "data": {
      "image/png": "[encoded data removed]",
      "text/plain": [
       "<Figure size 720x288 with 1 Axes>"
      ]
     },
     "metadata": {
      "needs_background": "light"
     },
     "output_type": "display_data"
    }
   ],
   "source": [
    "plt.figure(figsize = (10,4))\n",
    "plt.title('Tata Stocks Closing Price', color='Green')\n",
    "plt.plot(data['Close'], color='Red')\n",
    "plt.xlabel('Date',fontsize=20, color='Green')\n",
    "plt.ylabel('Close',fontsize=20, color='Green')"
   ]
  },
  {
   "cell_type": "code",
   "execution_count": 24,
   "id": "2922ad1d",
   "metadata": {},
   "outputs": [
    {
     "data": {
      "text/plain": [
       "0    233.75\n",
       "1    233.25\n",
       "2    234.25\n",
       "3    236.10\n",
       "4    233.30\n",
       "Name: Close, dtype: float64"
      ]
     },
     "execution_count": 24,
     "metadata": {},
     "output_type": "execute_result"
    }
   ],
   "source": [
    "data_close = data.reset_index()['Close']\n",
    "data_close.head()"
   ]
  },
  {
   "cell_type": "code",
   "execution_count": 25,
   "id": "501b6eba",
   "metadata": {},
   "outputs": [
    {
     "data": {
      "text/plain": [
       "array([[0.62418301],\n",
       "       [0.62214052],\n",
       "       [0.62622549],\n",
       "       ...,\n",
       "       [0.1621732 ],\n",
       "       [0.16319444],\n",
       "       [0.16584967]])"
      ]
     },
     "execution_count": 25,
     "metadata": {},
     "output_type": "execute_result"
    }
   ],
   "source": [
    "scaler = MinMaxScaler(feature_range = (0, 1))\n",
    "data_close = scaler.fit_transform(np.array(data_close).reshape(-1, 1))\n",
    "data_close"
   ]
  },
  {
   "cell_type": "markdown",
   "id": "32a02783",
   "metadata": {},
   "source": [
    "Now, we split our data into Training data (85%) and Testing data (15%)"
   ]
  },
  {
   "cell_type": "code",
   "execution_count": 26,
   "id": "daa4659c",
   "metadata": {},
   "outputs": [],
   "source": [
    "train_size = int(len(data_close) * 0.85)\n",
    "test_size = len(data_close) - train_size\n",
    "train_data, test_data = data_close[0 : train_size, :], data_close[train_size : len(data_close), : 1]"
   ]
  },
  {
   "cell_type": "code",
   "execution_count": 27,
   "id": "5c21c2de",
   "metadata": {},
   "outputs": [
    {
     "data": {
      "text/plain": [
       "(1729, 306)"
      ]
     },
     "execution_count": 27,
     "metadata": {},
     "output_type": "execute_result"
    }
   ],
   "source": [
    "train_size, test_size"
   ]
  },
  {
   "cell_type": "code",
   "execution_count": 28,
   "id": "afdbed53",
   "metadata": {},
   "outputs": [
    {
     "data": {
      "text/plain": [
       "array([[0.62418301],\n",
       "       [0.62214052],\n",
       "       [0.62622549],\n",
       "       ...,\n",
       "       [0.02920752],\n",
       "       [0.02328431],\n",
       "       [0.01919935]])"
      ]
     },
     "execution_count": 28,
     "metadata": {},
     "output_type": "execute_result"
    }
   ],
   "source": [
    "train_data"
   ]
  },
  {
   "cell_type": "code",
   "execution_count": 29,
   "id": "54c64add",
   "metadata": {},
   "outputs": [],
   "source": [
    "def create_dataset(dataset, time_step = 1):\n",
    "    X_data, Y_data = [], []\n",
    "    for i in range(len(dataset) - time_step - 1):\n",
    "\t    a = dataset[i : (i + time_step), 0] \n",
    "\t    X_data.append(a)\n",
    "\t    Y_data.append(dataset[i + time_step, 0])\n",
    "    return np.array(X_data), np.array(Y_data)"
   ]
  },
  {
   "cell_type": "code",
   "execution_count": 30,
   "id": "24d9f4be",
   "metadata": {},
   "outputs": [],
   "source": [
    "time_step = 100\n",
    "X_train, Y_train = create_dataset(train_data, time_step)\n",
    "X_test, Y_test = create_dataset(test_data, time_step)"
   ]
  },
  {
   "cell_type": "code",
   "execution_count": 31,
   "id": "419cb900",
   "metadata": {},
   "outputs": [
    {
     "name": "stdout",
     "output_type": "stream",
     "text": [
      "(1628, 100) (1628,)\n",
      "(205, 100) (205,)\n"
     ]
    }
   ],
   "source": [
    "print(X_train.shape, Y_train.shape)\n",
    "print(X_test.shape, Y_test.shape)"
   ]
  },
  {
   "cell_type": "code",
   "execution_count": 32,
   "id": "82e19021",
   "metadata": {},
   "outputs": [],
   "source": [
    "X_train = X_train.reshape(X_train.shape[0], X_train.shape[1] , 1)\n",
    "X_test = X_test.reshape(X_test.shape[0], X_test.shape[1] , 1)"
   ]
  },
  {
   "cell_type": "markdown",
   "id": "c3603de3",
   "metadata": {},
   "source": [
    "# Now we create the Stacked LSTM Model"
   ]
  },
  {
   "cell_type": "code",
   "execution_count": null,
   "id": "9d2a8dfc",
   "metadata": {},
   "outputs": [],
   "source": [
    "lst = Sequential()\n",
    "lst.add(LSTM(50,return_sequences = True, input_shape = (100, 1)))\n",
    "lst.add(LSTM(50, return_sequences = True))\n",
    "lst.add(LSTM(50))\n",
    "lst.add(Dense(1))\n",
    "lst.compile(loss = 'mean_squared_error', optimizer='adam')"
   ]
  },
  {
   "cell_type": "code",
   "execution_count": 34,
   "id": "e0d83a20",
   "metadata": {},
   "outputs": [
    {
     "name": "stdout",
     "output_type": "stream",
     "text": [
      "Model: \"sequential\"\n",
      "_________________________________________________________________\n",
      " Layer (type)                Output Shape              Param #   \n",
      "=================================================================\n",
      " lstm (LSTM)                 (None, 100, 50)           10400     \n",
      "                                                                 \n",
      " lstm_1 (LSTM)               (None, 100, 50)           20200     \n",
      "                                                                 \n",
      " lstm_2 (LSTM)               (None, 50)                20200     \n",
      "                                                                 \n",
      " dense (Dense)               (None, 1)                 51        \n",
      "                                                                 \n",
      "=================================================================\n",
      "Total params: 50,851\n",
      "Trainable params: 50,851\n",
      "Non-trainable params: 0\n",
      "_________________________________________________________________\n"
     ]
    }
   ],
   "source": [
    "lst.summary()"
   ]
  },
  {
   "cell_type": "code",
   "execution_count": 35,
   "id": "fd8addaf",
   "metadata": {},
   "outputs": [
    {
     "name": "stdout",
     "output_type": "stream",
     "text": [
      "Epoch 1/100\n",
      "26/26 [==============================] - 6s 122ms/step - loss: 0.0222 - val_loss: 0.0040\n",
      "Epoch 2/100\n",
      "26/26 [==============================] - 2s 86ms/step - loss: 0.0022 - val_loss: 4.6755e-04\n",
      "Epoch 3/100\n",
      "26/26 [==============================] - 2s 79ms/step - loss: 0.0015 - val_loss: 4.9127e-04\n",
      "Epoch 4/100\n",
      "26/26 [==============================] - 2s 78ms/step - loss: 0.0013 - val_loss: 4.7683e-04\n",
      "Epoch 5/100\n",
      "26/26 [==============================] - 2s 82ms/step - loss: 0.0013 - val_loss: 4.2115e-04\n",
      "Epoch 6/100\n",
      "26/26 [==============================] - 2s 79ms/step - loss: 0.0012 - val_loss: 4.1271e-04\n",
      "Epoch 7/100\n",
      "26/26 [==============================] - 2s 80ms/step - loss: 0.0011 - val_loss: 3.8872e-04\n",
      "Epoch 8/100\n",
      "26/26 [==============================] - 2s 80ms/step - loss: 0.0010 - val_loss: 3.8018e-04\n",
      "Epoch 9/100\n",
      "26/26 [==============================] - 2s 79ms/step - loss: 0.0012 - val_loss: 5.1793e-04\n",
      "Epoch 10/100\n",
      "26/26 [==============================] - 2s 79ms/step - loss: 0.0011 - val_loss: 3.7853e-04\n",
      "Epoch 11/100\n",
      "26/26 [==============================] - 2s 78ms/step - loss: 9.3682e-04 - val_loss: 3.8203e-04\n",
      "Epoch 12/100\n",
      "26/26 [==============================] - 2s 79ms/step - loss: 0.0010 - val_loss: 3.5538e-04\n",
      "Epoch 13/100\n",
      "26/26 [==============================] - 2s 79ms/step - loss: 0.0010 - val_loss: 3.4305e-04\n",
      "Epoch 14/100\n",
      "26/26 [==============================] - 2s 79ms/step - loss: 8.3024e-04 - val_loss: 3.5144e-04\n",
      "Epoch 15/100\n",
      "26/26 [==============================] - 2s 78ms/step - loss: 8.3379e-04 - val_loss: 3.3901e-04\n",
      "Epoch 16/100\n",
      "26/26 [==============================] - 2s 79ms/step - loss: 8.6727e-04 - val_loss: 3.4278e-04\n",
      "Epoch 17/100\n",
      "26/26 [==============================] - 2s 80ms/step - loss: 7.5204e-04 - val_loss: 3.2944e-04\n",
      "Epoch 18/100\n",
      "26/26 [==============================] - 2s 81ms/step - loss: 7.1431e-04 - val_loss: 3.2690e-04\n",
      "Epoch 19/100\n",
      "26/26 [==============================] - 2s 81ms/step - loss: 7.2867e-04 - val_loss: 3.1259e-04\n",
      "Epoch 20/100\n",
      "26/26 [==============================] - 2s 82ms/step - loss: 7.0123e-04 - val_loss: 3.0864e-04\n",
      "Epoch 21/100\n",
      "26/26 [==============================] - 2s 81ms/step - loss: 7.0520e-04 - val_loss: 3.1026e-04\n",
      "Epoch 22/100\n",
      "26/26 [==============================] - 2s 82ms/step - loss: 7.3056e-04 - val_loss: 3.0502e-04\n",
      "Epoch 23/100\n",
      "26/26 [==============================] - 2s 82ms/step - loss: 7.3735e-04 - val_loss: 2.9675e-04\n",
      "Epoch 24/100\n",
      "26/26 [==============================] - 2s 82ms/step - loss: 6.4070e-04 - val_loss: 2.9759e-04\n",
      "Epoch 25/100\n",
      "26/26 [==============================] - 2s 81ms/step - loss: 5.9776e-04 - val_loss: 3.0752e-04\n",
      "Epoch 26/100\n",
      "26/26 [==============================] - 2s 81ms/step - loss: 6.7010e-04 - val_loss: 2.9686e-04\n",
      "Epoch 27/100\n",
      "26/26 [==============================] - 2s 81ms/step - loss: 6.0543e-04 - val_loss: 2.7842e-04\n",
      "Epoch 28/100\n",
      "26/26 [==============================] - 2s 81ms/step - loss: 5.9657e-04 - val_loss: 3.5531e-04\n",
      "Epoch 29/100\n",
      "26/26 [==============================] - 2s 81ms/step - loss: 6.2236e-04 - val_loss: 2.7168e-04\n",
      "Epoch 30/100\n",
      "26/26 [==============================] - 2s 81ms/step - loss: 5.6860e-04 - val_loss: 2.7178e-04\n",
      "Epoch 31/100\n",
      "26/26 [==============================] - 2s 81ms/step - loss: 5.3671e-04 - val_loss: 2.6245e-04\n",
      "Epoch 32/100\n",
      "26/26 [==============================] - 2s 81ms/step - loss: 5.1169e-04 - val_loss: 2.5806e-04\n",
      "Epoch 33/100\n",
      "26/26 [==============================] - 2s 84ms/step - loss: 5.0212e-04 - val_loss: 2.5388e-04\n",
      "Epoch 34/100\n",
      "26/26 [==============================] - 2s 81ms/step - loss: 5.1505e-04 - val_loss: 2.5474e-04\n",
      "Epoch 35/100\n",
      "26/26 [==============================] - 2s 81ms/step - loss: 5.1539e-04 - val_loss: 2.4654e-04\n",
      "Epoch 36/100\n",
      "26/26 [==============================] - 2s 81ms/step - loss: 5.3237e-04 - val_loss: 2.4477e-04\n",
      "Epoch 37/100\n",
      "26/26 [==============================] - 2s 82ms/step - loss: 4.9963e-04 - val_loss: 2.4055e-04\n",
      "Epoch 38/100\n",
      "26/26 [==============================] - 2s 82ms/step - loss: 4.7561e-04 - val_loss: 2.4644e-04\n",
      "Epoch 39/100\n",
      "26/26 [==============================] - 2s 82ms/step - loss: 4.7486e-04 - val_loss: 2.3317e-04\n",
      "Epoch 40/100\n",
      "26/26 [==============================] - 2s 82ms/step - loss: 4.6834e-04 - val_loss: 2.3835e-04\n",
      "Epoch 41/100\n",
      "26/26 [==============================] - 2s 82ms/step - loss: 4.5080e-04 - val_loss: 2.2905e-04\n",
      "Epoch 42/100\n",
      "26/26 [==============================] - 2s 82ms/step - loss: 4.4687e-04 - val_loss: 2.2498e-04\n",
      "Epoch 43/100\n",
      "26/26 [==============================] - 2s 82ms/step - loss: 4.1482e-04 - val_loss: 2.2093e-04\n",
      "Epoch 44/100\n",
      "26/26 [==============================] - 2s 82ms/step - loss: 3.9186e-04 - val_loss: 2.1900e-04\n",
      "Epoch 45/100\n",
      "26/26 [==============================] - 2s 82ms/step - loss: 4.4114e-04 - val_loss: 2.1741e-04\n",
      "Epoch 46/100\n",
      "26/26 [==============================] - 2s 82ms/step - loss: 3.8563e-04 - val_loss: 2.1184e-04\n",
      "Epoch 47/100\n",
      "26/26 [==============================] - 2s 82ms/step - loss: 3.9677e-04 - val_loss: 2.1905e-04\n",
      "Epoch 48/100\n",
      "26/26 [==============================] - 2s 82ms/step - loss: 3.7953e-04 - val_loss: 2.1035e-04\n",
      "Epoch 49/100\n",
      "26/26 [==============================] - 2s 82ms/step - loss: 3.5751e-04 - val_loss: 2.0229e-04\n",
      "Epoch 50/100\n",
      "26/26 [==============================] - 2s 82ms/step - loss: 3.5549e-04 - val_loss: 2.0473e-04\n",
      "Epoch 51/100\n",
      "26/26 [==============================] - 2s 87ms/step - loss: 3.5467e-04 - val_loss: 1.9580e-04\n",
      "Epoch 52/100\n",
      "26/26 [==============================] - 2s 86ms/step - loss: 3.7140e-04 - val_loss: 2.1788e-04\n",
      "Epoch 53/100\n",
      "26/26 [==============================] - 2s 86ms/step - loss: 3.8424e-04 - val_loss: 2.0441e-04\n",
      "Epoch 54/100\n",
      "26/26 [==============================] - 2s 85ms/step - loss: 3.5019e-04 - val_loss: 1.9240e-04\n",
      "Epoch 55/100\n",
      "26/26 [==============================] - 2s 85ms/step - loss: 3.7224e-04 - val_loss: 1.9429e-04\n",
      "Epoch 56/100\n",
      "26/26 [==============================] - 2s 85ms/step - loss: 3.1964e-04 - val_loss: 1.8742e-04\n",
      "Epoch 57/100\n",
      "26/26 [==============================] - 2s 84ms/step - loss: 3.3865e-04 - val_loss: 1.7945e-04\n",
      "Epoch 58/100\n",
      "26/26 [==============================] - 2s 85ms/step - loss: 3.2729e-04 - val_loss: 1.7726e-04\n",
      "Epoch 59/100\n",
      "26/26 [==============================] - 2s 86ms/step - loss: 3.0567e-04 - val_loss: 1.7538e-04\n",
      "Epoch 60/100\n",
      "26/26 [==============================] - 2s 85ms/step - loss: 3.8754e-04 - val_loss: 2.2543e-04\n",
      "Epoch 61/100\n",
      "26/26 [==============================] - 2s 85ms/step - loss: 3.1535e-04 - val_loss: 1.8261e-04\n",
      "Epoch 62/100\n",
      "26/26 [==============================] - 2s 86ms/step - loss: 2.8736e-04 - val_loss: 1.6584e-04\n",
      "Epoch 63/100\n",
      "26/26 [==============================] - 2s 84ms/step - loss: 3.0339e-04 - val_loss: 1.7157e-04\n",
      "Epoch 64/100\n",
      "26/26 [==============================] - 2s 85ms/step - loss: 2.8575e-04 - val_loss: 1.6026e-04\n",
      "Epoch 65/100\n",
      "26/26 [==============================] - 2s 83ms/step - loss: 2.6935e-04 - val_loss: 1.6030e-04\n",
      "Epoch 66/100\n",
      "26/26 [==============================] - 2s 83ms/step - loss: 2.6697e-04 - val_loss: 1.5728e-04\n",
      "Epoch 67/100\n",
      "26/26 [==============================] - 2s 84ms/step - loss: 2.9656e-04 - val_loss: 1.6996e-04\n",
      "Epoch 68/100\n",
      "26/26 [==============================] - 2s 84ms/step - loss: 2.4644e-04 - val_loss: 1.6959e-04\n",
      "Epoch 69/100\n",
      "26/26 [==============================] - 2s 85ms/step - loss: 3.0107e-04 - val_loss: 2.1790e-04\n",
      "Epoch 70/100\n",
      "26/26 [==============================] - 2s 84ms/step - loss: 2.8078e-04 - val_loss: 1.4577e-04\n",
      "Epoch 71/100\n",
      "26/26 [==============================] - 2s 85ms/step - loss: 2.7871e-04 - val_loss: 1.9099e-04\n",
      "Epoch 72/100\n",
      "26/26 [==============================] - 2s 84ms/step - loss: 3.8684e-04 - val_loss: 2.3564e-04\n",
      "Epoch 73/100\n",
      "26/26 [==============================] - 2s 86ms/step - loss: 3.3538e-04 - val_loss: 1.7197e-04\n",
      "Epoch 74/100\n",
      "26/26 [==============================] - 2s 86ms/step - loss: 2.3790e-04 - val_loss: 1.4032e-04\n",
      "Epoch 75/100\n",
      "26/26 [==============================] - 2s 82ms/step - loss: 2.3065e-04 - val_loss: 1.4206e-04\n",
      "Epoch 76/100\n"
     ]
    },
    {
     "name": "stdout",
     "output_type": "stream",
     "text": [
      "26/26 [==============================] - 2s 82ms/step - loss: 2.3027e-04 - val_loss: 1.3567e-04\n",
      "Epoch 77/100\n",
      "26/26 [==============================] - 2s 82ms/step - loss: 2.2240e-04 - val_loss: 1.5314e-04\n",
      "Epoch 78/100\n",
      "26/26 [==============================] - 2s 83ms/step - loss: 2.4766e-04 - val_loss: 1.6369e-04\n",
      "Epoch 79/100\n",
      "26/26 [==============================] - 2s 83ms/step - loss: 2.7886e-04 - val_loss: 1.5621e-04\n",
      "Epoch 80/100\n",
      "26/26 [==============================] - 2s 83ms/step - loss: 2.3543e-04 - val_loss: 1.3161e-04\n",
      "Epoch 81/100\n",
      "26/26 [==============================] - 2s 84ms/step - loss: 2.3874e-04 - val_loss: 1.3988e-04\n",
      "Epoch 82/100\n",
      "26/26 [==============================] - 2s 83ms/step - loss: 2.3639e-04 - val_loss: 1.5372e-04\n",
      "Epoch 83/100\n",
      "26/26 [==============================] - 2s 83ms/step - loss: 2.4043e-04 - val_loss: 1.2502e-04\n",
      "Epoch 84/100\n",
      "26/26 [==============================] - 2s 84ms/step - loss: 2.4073e-04 - val_loss: 1.5897e-04\n",
      "Epoch 85/100\n",
      "26/26 [==============================] - 2s 83ms/step - loss: 2.2954e-04 - val_loss: 1.2636e-04\n",
      "Epoch 86/100\n",
      "26/26 [==============================] - 2s 84ms/step - loss: 2.0930e-04 - val_loss: 1.2219e-04\n",
      "Epoch 87/100\n",
      "26/26 [==============================] - 2s 84ms/step - loss: 2.0950e-04 - val_loss: 1.2420e-04\n",
      "Epoch 88/100\n",
      "26/26 [==============================] - 2s 84ms/step - loss: 2.4401e-04 - val_loss: 1.2257e-04\n",
      "Epoch 89/100\n",
      "26/26 [==============================] - 2s 84ms/step - loss: 2.1156e-04 - val_loss: 1.2068e-04\n",
      "Epoch 90/100\n",
      "26/26 [==============================] - 2s 84ms/step - loss: 2.1222e-04 - val_loss: 1.2726e-04\n",
      "Epoch 91/100\n",
      "26/26 [==============================] - 2s 84ms/step - loss: 2.5544e-04 - val_loss: 1.1741e-04\n",
      "Epoch 92/100\n",
      "26/26 [==============================] - 2s 84ms/step - loss: 2.0366e-04 - val_loss: 1.2823e-04\n",
      "Epoch 93/100\n",
      "26/26 [==============================] - 2s 83ms/step - loss: 2.6388e-04 - val_loss: 1.1628e-04\n",
      "Epoch 94/100\n",
      "26/26 [==============================] - 2s 83ms/step - loss: 2.4642e-04 - val_loss: 1.2214e-04\n",
      "Epoch 95/100\n",
      "26/26 [==============================] - 2s 83ms/step - loss: 2.1780e-04 - val_loss: 1.3045e-04\n",
      "Epoch 96/100\n",
      "26/26 [==============================] - 2s 84ms/step - loss: 1.9366e-04 - val_loss: 1.1543e-04\n",
      "Epoch 97/100\n",
      "26/26 [==============================] - 2s 84ms/step - loss: 1.9176e-04 - val_loss: 1.1923e-04\n",
      "Epoch 98/100\n",
      "26/26 [==============================] - 2s 84ms/step - loss: 2.4096e-04 - val_loss: 1.1156e-04\n",
      "Epoch 99/100\n",
      "26/26 [==============================] - 2s 84ms/step - loss: 2.3297e-04 - val_loss: 1.4851e-04\n",
      "Epoch 100/100\n",
      "26/26 [==============================] - 2s 84ms/step - loss: 1.9881e-04 - val_loss: 1.0996e-04\n"
     ]
    },
    {
     "data": {
      "text/plain": [
       "<keras.callbacks.History at 0x2148e1fce20>"
      ]
     },
     "execution_count": 35,
     "metadata": {},
     "output_type": "execute_result"
    }
   ],
   "source": [
    "lst.fit(X_train, Y_train, validation_data = (X_test, Y_test), epochs = 100, batch_size = 64, verbose = 1)"
   ]
  },
  {
   "cell_type": "markdown",
   "id": "fe3b3d09",
   "metadata": {},
   "source": [
    "Now we will test the performance of our Model."
   ]
  },
  {
   "cell_type": "code",
   "execution_count": 36,
   "id": "31f720a9",
   "metadata": {},
   "outputs": [],
   "source": [
    "train_predict = lst.predict(X_train)\n",
    "test_predict = lst.predict(X_test)"
   ]
  },
  {
   "cell_type": "code",
   "execution_count": 37,
   "id": "8dfc36d5",
   "metadata": {},
   "outputs": [],
   "source": [
    "train_predict = scaler.inverse_transform(train_predict)\n",
    "test_predict = scaler.inverse_transform(test_predict)"
   ]
  },
  {
   "cell_type": "code",
   "execution_count": 38,
   "id": "5f4bff58",
   "metadata": {},
   "outputs": [
    {
     "data": {
      "text/plain": [
       "158.53166049795186"
      ]
     },
     "execution_count": 38,
     "metadata": {},
     "output_type": "execute_result"
    }
   ],
   "source": [
    "math.sqrt(mean_squared_error(Y_train, train_predict))"
   ]
  },
  {
   "cell_type": "markdown",
   "id": "f9c5ae10",
   "metadata": {},
   "source": [
    "visualisation of our Predictions."
   ]
  },
  {
   "cell_type": "code",
   "execution_count": 39,
   "id": "62424129",
   "metadata": {},
   "outputs": [
    {
     "data": {
      "image/png": "[encoded data removed]",
      "text/plain": [
       "<Figure size 432x288 with 1 Axes>"
      ]
     },
     "metadata": {
      "needs_background": "light"
     },
     "output_type": "display_data"
    }
   ],
   "source": [
    "look_back = 100\n",
    "train_num_pyredict_plot = np.empty_like(data_close)\n",
    "train_num_pyredict_plot[:, :] = np.nan\n",
    "train_num_pyredict_plot[look_back : len(train_predict) + look_back, :] = train_predict\n",
    "test_predict_plot = np.empty_like(data_close)\n",
    "test_predict_plot[:, :] = np.nan\n",
    "test_predict_plot[len(train_predict) + (look_back * 2) + 1 : len(data_close) - 1, :] = test_predict\n",
    "plt.plot(scaler.inverse_transform(data_close))\n",
    "plt.plot(train_num_pyredict_plot)\n",
    "plt.plot(test_predict_plot)\n",
    "plt.show()"
   ]
  },
  {
   "cell_type": "markdown",
   "id": "f8573213",
   "metadata": {},
   "source": [
    "# Future Probabilities"
   ]
  },
  {
   "cell_type": "code",
   "execution_count": 40,
   "id": "12ee922b",
   "metadata": {},
   "outputs": [],
   "source": [
    "x_inum_pyut=test_data[307:].reshape(1, -1)\n",
    "x_inum_pyut.shape\n",
    "temp_inum_pyut = list(x_inum_pyut)\n",
    "temp_inum_pyut = temp_inum_pyut[0].tolist()\n",
    "temp_inum_pyut = list(x_inum_pyut)\n",
    "temp_inum_pyut = temp_inum_pyut[0].tolist()"
   ]
  },
  {
   "cell_type": "code",
   "execution_count": 41,
   "id": "72e84f54",
   "metadata": {},
   "outputs": [],
   "source": [
    "day_new = np.arange(1, 101)\n",
    "day_pred = np.arange(101, 131)"
   ]
  },
  {
   "cell_type": "code",
   "execution_count": 44,
   "id": "d680fe4f",
   "metadata": {},
   "outputs": [
    {
     "data": {
      "text/plain": [
       "[<matplotlib.lines.Line2D at 0x21497299ca0>]"
      ]
     },
     "execution_count": 44,
     "metadata": {},
     "output_type": "execute_result"
    },
    {
     "data": {
      "image/png": "[encoded data removed]",
      "text/plain": [
       "<Figure size 432x288 with 1 Axes>"
      ]
     },
     "metadata": {
      "needs_background": "light"
     },
     "output_type": "display_data"
    }
   ],
   "source": [
    "plt.plot(day_new, scaler.inverse_transform(data_close[1935 : ]),color='Red')"
   ]
  },
  {
   "cell_type": "code",
   "execution_count": 45,
   "id": "e9220f02",
   "metadata": {},
   "outputs": [
    {
     "data": {
      "text/plain": [
       "[<matplotlib.lines.Line2D at 0x214971ee4f0>]"
      ]
     },
     "execution_count": 45,
     "metadata": {},
     "output_type": "execute_result"
    },
    {
     "data": {
      "image/png": "[encoded data removed]",
      "text/plain": [
       "<Figure size 432x288 with 1 Axes>"
      ]
     },
     "metadata": {
      "needs_background": "light"
     },
     "output_type": "display_data"
    }
   ],
   "source": [
    "data_merge = data_close.tolist()\n",
    "plt.plot((data_merge[1200 : ]),color='Red')"
   ]
  },
  {
   "cell_type": "code",
   "execution_count": null,
   "id": "6303a743",
   "metadata": {},
   "outputs": [],
   "source": []
  }
 ],
 "metadata": {
  "kernelspec": {
   "display_name": "Python 3 (ipykernel)",
   "language": "python",
   "name": "python3"
  },
  "language_info": {
   "codemirror_mode": {
    "name": "ipython",
    "version": 3
   },
   "file_extension": ".py",
   "mimetype": "text/x-python",
   "name": "python",
   "nbconvert_exporter": "python",
   "pygments_lexer": "ipython3",
   "version": "3.9.7"
  }
 },
 "nbformat": 4,
 "nbformat_minor": 5
}
